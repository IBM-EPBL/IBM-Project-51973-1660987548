{
  "nbformat": 4,
  "nbformat_minor": 0,
  "metadata": {
    "colab": {
      "provenance": []
    },
    "kernelspec": {
      "name": "python3",
      "display_name": "Python 3"
    },
    "language_info": {
      "name": "python"
    }
  },
  "cells": [
    {
      "cell_type": "code",
      "execution_count": null,
      "metadata": {
        "id": "Tn1GpmT0lOTY"
      },
      "outputs": [],
      "source": [
        "model.save(r'D:\\IBM Project\\gesture.h5')"
      ]
    }
  ]
}